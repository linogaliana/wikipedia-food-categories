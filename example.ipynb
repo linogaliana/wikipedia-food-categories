{
 "cells": [
  {
   "cell_type": "markdown",
   "metadata": {},
   "source": [
    "# Crawling wikipedia food categories\n",
    "\n",
    "This notebook presents the retrieval of some food categories on wikipedia to enrich a dictionary of standardized aliments with some diversity in the products available. For instance, in [Galiana and Suarez-Castillo (2022)](https://www.linogaliana.fr/talk/goodit22/), we use this approach to enrich [Anses' nutritional dataset called `CIQUAL`](https://ciqual.anses.fr/) with the list of brands or vintages of alcohol available on wikipedia. This makes it possible to take into account the great diversity of French wine names, which are nevertheless not very different from one another in terms of nutritional content. \n",
    "\n",
    "The Python code provided in the `functions.py` file allows to replicate the main steps of the data recovery. The later steps for cleaning up the text fields that are presented in Galiana and Suarez Castillo (2022) are not present in this repository; they will be made public later.\n",
    "\n",
    "To import all relevent pieces, you just need to run the script as module. Only standard dependencies are used."
   ]
  },
  {
   "cell_type": "code",
   "execution_count": 3,
   "metadata": {},
   "outputs": [],
   "source": [
    "import functions as fc"
   ]
  },
  {
   "cell_type": "markdown",
   "metadata": {},
   "source": [
    "## Retrieving French wines\n",
    "\n",
    "Let's assume we are interested in French wines. The relevent wikipedia category is [this one](https://fr.wikipedia.org/wiki/Cat%C3%A9gorie:Vin_fran%C3%A7ais). \n",
    "\n",
    "![](vinaoc.png)\n",
    "\n",
    "If we want to retrieve the content of the subcategory _\"Vin AOC en France par région\"_, we use `fc.dictionnary_by_descending_wiki_child_categories` to crawl the content. To control the number of subcategories we crawl, we use `max_step = 3`. \n",
    "If we wanted more diversity in the category, we would have increased the value of this parameter"
   ]
  },
  {
   "cell_type": "code",
   "execution_count": 2,
   "metadata": {},
   "outputs": [
    {
     "name": "stdout",
     "output_type": "stream",
     "text": [
      "--- Catégories à traiter --- \n",
      "['Vin_français', 'Vin AOC en France par région']\n",
      "1\n",
      "--- Catégories à traiter --- \n",
      "['Vin AOC en Centre-Val de Loire', 'Vignoble de la vallée de la Loire', 'Vignoble de Bordeaux', 'Vin AOC dans le Grand Est', 'Vin AOC en région Occitanie', 'Vignoble du Val-de-Loire', 'Vin français disparu', 'Vin AOC en Nouvelle-Aquitaine', 'Vin AOC en Bourgogne-Franche-Comté', 'Vin AOC en France', 'Vignoble des Côtes du Rhône', 'Vignoble du Languedoc-Roussillon', \"Vin AOC en Provence-Alpes-Côte d'Azur\", 'Vignoble du Sud-Ouest', 'Vin AOC en Auvergne-Rhône-Alpes', 'Vin AOC en Pays de la Loire', 'Vin primeur', 'Vignoble de Provence']\n",
      "2\n",
      "--- Catégories à traiter --- \n",
      "['Vin AOC par région viticole française', 'Vin AOC dans les Pyrénées-Atlantiques', 'Vin AOC dans les Alpes-de-Haute-Provence', 'Vin AOC dans la Gironde', 'Vin AOC dans le Gers', 'Vin AOC dans le Var', 'Vin AOC en Loire-Atlantique', 'Vin AOC dans les Bouches-du-Rhône', 'Domaine viticole du Roussillon', 'Vignoble du Sauternais', \"Vin AOC dans l'Ain\", 'Vin AOC en Moselle', 'Vin AOC dans la Vienne', 'Vin AOC en Dordogne', 'Domaine viticole du Languedoc', 'Vin AOC dans le Rhône', \"Vin AOC dans l'Allier\", 'Vignoble en Nouvelle-Aquitaine', \"Vin AOC dans l'Hérault\", 'Vignoble dans le Gers', 'Vin AOC en Haute-Garonne', 'Vignoble du Blayais et du Bourgeais', 'Cru bourgeois', 'Vin AOC dans la Sarthe', 'Vin AOC dans les Deux-Sèvres', 'Domaine viticole en Gironde', 'Domaine viticole du Bassin de la Loire et du Poitou', \"Vignoble de l'Entre-deux-Mers\", 'Vin AOC dans le Puy-de-Dôme', \"Vin AOC dans l'Aude\", 'Vin AOC dans la Nièvre', \"Vin AOC dans l'Aube\", 'Vin AOC dans le Lot', 'Vignoble des Hautes-Pyrénées', \"Vin AOC dans la Côte-d'Or\", 'Vin AOC en France par département', 'Vin AOC dans le Gard', 'Vin AOC en Savoie', 'Vignoble du Médoc', 'Vin AOC dans la Loire', 'Domaine viticole en Provence', 'Vin AOC en Meurthe-et-Moselle', 'Vin AOC dans les Hautes-Pyrénées', 'Vin doux naturel du Languedoc-Roussillon', 'Vin AOC dans la Drôme', 'Vin AOC dans le Cher', 'Vin AOC dans le Tarn', \"Vin AOC dans l'Yonne\", 'Vin AOC de la vallée de la Loire', 'Vignoble du Libournais', 'Vin AOC en Lot-et-Garonne', \"Vin IGP dans l'Indre\", 'Vin moelleux ou liquoreux du Val-de-Loire', 'Vin AOC en Vaucluse', 'Vin AOC en Ardèche', 'Vin AOC dans le Loiret', 'Vignoble de Graves', 'Vin AOC en Saône-et-Loire', 'Cru classé 1855', 'Vin moelleux ou liquoreux du Vignoble du Sud-Ouest', 'Vin moelleux ou liquoreux du Vignoble de Bordeaux', \"Vin AOC dans l'Indre\", 'Vin IGP dans le Cher']\n",
      "3\n"
     ]
    }
   ],
   "source": [
    "dict_wine = fc.dictionnary_by_descending_wiki_child_categories(\n",
    "    [\"Vin_français\", \"Vin AOC en France par région\"],\n",
    "    max_step = 3)"
   ]
  },
  {
   "cell_type": "markdown",
   "metadata": {},
   "source": [
    "Since it is more convenient to use the output as a `Pandas DataFrame`, we can convert that using `Pandas`"
   ]
  },
  {
   "cell_type": "code",
   "execution_count": 4,
   "metadata": {},
   "outputs": [
    {
     "data": {
      "text/html": [
       "<div>\n",
       "<style scoped>\n",
       "    .dataframe tbody tr th:only-of-type {\n",
       "        vertical-align: middle;\n",
       "    }\n",
       "\n",
       "    .dataframe tbody tr th {\n",
       "        vertical-align: top;\n",
       "    }\n",
       "\n",
       "    .dataframe thead th {\n",
       "        text-align: right;\n",
       "    }\n",
       "</style>\n",
       "<table border=\"1\" class=\"dataframe\">\n",
       "  <thead>\n",
       "    <tr style=\"text-align: right;\">\n",
       "      <th></th>\n",
       "      <th>items</th>\n",
       "      <th>scrawl_cat</th>\n",
       "    </tr>\n",
       "  </thead>\n",
       "  <tbody>\n",
       "    <tr>\n",
       "      <th>0</th>\n",
       "      <td>Vins de qualité produits dans des régions déte...</td>\n",
       "      <td>Vin_français</td>\n",
       "    </tr>\n",
       "    <tr>\n",
       "      <th>1</th>\n",
       "      <td>Quincy</td>\n",
       "      <td>Vin AOC en France par région</td>\n",
       "    </tr>\n",
       "    <tr>\n",
       "      <th>2</th>\n",
       "      <td>Coteaux-de-die</td>\n",
       "      <td>Vin AOC en Centre-Val de Loire</td>\n",
       "    </tr>\n",
       "    <tr>\n",
       "      <th>3</th>\n",
       "      <td>Bergerac</td>\n",
       "      <td>Vignoble de la vallée de la Loire</td>\n",
       "    </tr>\n",
       "    <tr>\n",
       "      <th>4</th>\n",
       "      <td>Seyssel</td>\n",
       "      <td>Vignoble de Bordeaux</td>\n",
       "    </tr>\n",
       "    <tr>\n",
       "      <th>5</th>\n",
       "      <td>Roussette-de-savoie</td>\n",
       "      <td>Vin AOC dans le Grand Est</td>\n",
       "    </tr>\n",
       "    <tr>\n",
       "      <th>6</th>\n",
       "      <td>Vieux Langlade</td>\n",
       "      <td>Vin AOC en région Occitanie</td>\n",
       "    </tr>\n",
       "    <tr>\n",
       "      <th>7</th>\n",
       "      <td>Abymes</td>\n",
       "      <td>Vignoble du Val-de-Loire</td>\n",
       "    </tr>\n",
       "    <tr>\n",
       "      <th>8</th>\n",
       "      <td>Cilaos</td>\n",
       "      <td>Vin français disparu</td>\n",
       "    </tr>\n",
       "    <tr>\n",
       "      <th>9</th>\n",
       "      <td>Clairette-du-languedoc</td>\n",
       "      <td>Vin AOC en Nouvelle-Aquitaine</td>\n",
       "    </tr>\n",
       "  </tbody>\n",
       "</table>\n",
       "</div>"
      ],
      "text/plain": [
       "                                               items  \\\n",
       "0  Vins de qualité produits dans des régions déte...   \n",
       "1                                             Quincy   \n",
       "2                                     Coteaux-de-die   \n",
       "3                                           Bergerac   \n",
       "4                                            Seyssel   \n",
       "5                                Roussette-de-savoie   \n",
       "6                                     Vieux Langlade   \n",
       "7                                             Abymes   \n",
       "8                                             Cilaos   \n",
       "9                             Clairette-du-languedoc   \n",
       "\n",
       "                          scrawl_cat  \n",
       "0                       Vin_français  \n",
       "1       Vin AOC en France par région  \n",
       "2     Vin AOC en Centre-Val de Loire  \n",
       "3  Vignoble de la vallée de la Loire  \n",
       "4               Vignoble de Bordeaux  \n",
       "5          Vin AOC dans le Grand Est  \n",
       "6        Vin AOC en région Occitanie  \n",
       "7           Vignoble du Val-de-Loire  \n",
       "8               Vin français disparu  \n",
       "9      Vin AOC en Nouvelle-Aquitaine  "
      ]
     },
     "execution_count": 4,
     "metadata": {},
     "output_type": "execute_result"
    }
   ],
   "source": [
    "import pandas as pd\n",
    "df = pd.DataFrame(dict([ (k,pd.Series(v)) for k,v in dict_wine.items() ]))\n",
    "df.head(10)"
   ]
  },
  {
   "cell_type": "markdown",
   "metadata": {},
   "source": [
    "## Using a personal mapping\n",
    "\n",
    "In this section, we show how to generalize this approach by using a handmade mapping between categories in Wikipedia and in another dataset.\n",
    "\n",
    "In our case, categories are based on [`CIQUAL` dataset](https://ciqual.anses.fr/).\n",
    "\n",
    "We stored that mapping into a dictionary: "
   ]
  },
  {
   "cell_type": "code",
   "execution_count": null,
   "metadata": {},
   "outputs": [],
   "source": [
    "fc.Wiki_to_ciqual"
   ]
  },
  {
   "cell_type": "code",
   "execution_count": null,
   "metadata": {},
   "outputs": [],
   "source": [
    "## ------------- Write the Wikipedia Products DataBase, with the ciqual label counterpart.\n",
    "df = fc.create_dataframe_wikipedia(fc.Wiki_to_ciqual)"
   ]
  },
  {
   "cell_type": "code",
   "execution_count": 6,
   "metadata": {},
   "outputs": [
    {
     "data": {
      "text/html": [
       "<div>\n",
       "<style scoped>\n",
       "    .dataframe tbody tr th:only-of-type {\n",
       "        vertical-align: middle;\n",
       "    }\n",
       "\n",
       "    .dataframe tbody tr th {\n",
       "        vertical-align: top;\n",
       "    }\n",
       "\n",
       "    .dataframe thead th {\n",
       "        text-align: right;\n",
       "    }\n",
       "</style>\n",
       "<table border=\"1\" class=\"dataframe\">\n",
       "  <thead>\n",
       "    <tr style=\"text-align: right;\">\n",
       "      <th></th>\n",
       "      <th>LIBELLE</th>\n",
       "      <th>alim_nom_fr</th>\n",
       "    </tr>\n",
       "  </thead>\n",
       "  <tbody>\n",
       "    <tr>\n",
       "      <th>1130</th>\n",
       "      <td>Muscadet côtes de grandlieu</td>\n",
       "      <td>Vin rouge</td>\n",
       "    </tr>\n",
       "    <tr>\n",
       "      <th>189</th>\n",
       "      <td>Brousse du Rove</td>\n",
       "      <td>Fromage (aliment moyen)</td>\n",
       "    </tr>\n",
       "    <tr>\n",
       "      <th>904</th>\n",
       "      <td>Château de Gironville</td>\n",
       "      <td>Vin rouge</td>\n",
       "    </tr>\n",
       "    <tr>\n",
       "      <th>218</th>\n",
       "      <td>Sérac</td>\n",
       "      <td>Fromage (aliment moyen)</td>\n",
       "    </tr>\n",
       "    <tr>\n",
       "      <th>227</th>\n",
       "      <td>Brulhois</td>\n",
       "      <td>Vin rouge</td>\n",
       "    </tr>\n",
       "    <tr>\n",
       "      <th>608</th>\n",
       "      <td>Suze la rousse</td>\n",
       "      <td>Vin rouge</td>\n",
       "    </tr>\n",
       "    <tr>\n",
       "      <th>167</th>\n",
       "      <td>Ciney</td>\n",
       "      <td>Bière blanche</td>\n",
       "    </tr>\n",
       "    <tr>\n",
       "      <th>247</th>\n",
       "      <td>Picpoul de pinet</td>\n",
       "      <td>Vin rouge</td>\n",
       "    </tr>\n",
       "    <tr>\n",
       "      <th>88</th>\n",
       "      <td>Os à moelle</td>\n",
       "      <td>Viande cuite (aliment moyen)</td>\n",
       "    </tr>\n",
       "    <tr>\n",
       "      <th>198</th>\n",
       "      <td>Côtes de provence Notre Dame des Anges</td>\n",
       "      <td>Vin rouge</td>\n",
       "    </tr>\n",
       "  </tbody>\n",
       "</table>\n",
       "</div>"
      ],
      "text/plain": [
       "                                     LIBELLE                   alim_nom_fr\n",
       "1130             Muscadet côtes de grandlieu                     Vin rouge\n",
       "189                          Brousse du Rove       Fromage (aliment moyen)\n",
       "904                    Château de Gironville                     Vin rouge\n",
       "218                                    Sérac       Fromage (aliment moyen)\n",
       "227                                 Brulhois                     Vin rouge\n",
       "608                           Suze la rousse                     Vin rouge\n",
       "167                                    Ciney                 Bière blanche\n",
       "247                         Picpoul de pinet                     Vin rouge\n",
       "88                               Os à moelle  Viande cuite (aliment moyen)\n",
       "198   Côtes de provence Notre Dame des Anges                     Vin rouge"
      ]
     },
     "execution_count": 6,
     "metadata": {},
     "output_type": "execute_result"
    }
   ],
   "source": [
    "df.sample(10)"
   ]
  },
  {
   "cell_type": "markdown",
   "metadata": {},
   "source": [
    "## Citation\n",
    "\n",
    "See `README.md`"
   ]
  }
 ],
 "metadata": {
  "kernelspec": {
   "display_name": "base",
   "language": "python",
   "name": "python3"
  },
  "language_info": {
   "codemirror_mode": {
    "name": "ipython",
    "version": 3
   },
   "file_extension": ".py",
   "mimetype": "text/x-python",
   "name": "python",
   "nbconvert_exporter": "python",
   "pygments_lexer": "ipython3",
   "version": "3.10.4"
  },
  "orig_nbformat": 4,
  "vscode": {
   "interpreter": {
    "hash": "3fa046f995eb80ac40c0869a1f9df46519f4ada8b8c395ef25dd1aa1a1a2fc63"
   }
  }
 },
 "nbformat": 4,
 "nbformat_minor": 2
}
